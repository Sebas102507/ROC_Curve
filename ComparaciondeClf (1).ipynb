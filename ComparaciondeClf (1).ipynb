{
  "cells": [
    {
      "cell_type": "markdown",
      "source": [
        "<h1>Comparación clasificadores</h1>"
      ],
      "metadata": {
        "application/vnd.databricks.v1+cell": {
          "title": "",
          "showTitle": false,
          "inputWidgets": {},
          "nuid": "e15bdeb6-69e4-4e03-ad17-4907f0f10579"
        },
        "id": "KovuLC8MN9Yt"
      }
    },
    {
      "cell_type": "markdown",
      "source": [
        "<p><strong>Objetivo: </strong> El objetivo de este cuaderno es familiarizarse con la comparación de clasificadores </p>"
      ],
      "metadata": {
        "application/vnd.databricks.v1+cell": {
          "title": "",
          "showTitle": false,
          "inputWidgets": {},
          "nuid": "e750335b-ad7a-46c3-93ce-144cf59f6071"
        },
        "id": "s1tbmUOgN9Yx"
      }
    },
    {
      "cell_type": "markdown",
      "source": [
        "<h2>Indice</h2>\n",
        "\n",
        "<div class=\"alert alert-block alert-info\" style=\"margin-top: 20px\">\n",
        "<ul>\n",
        "   <li>Cargar librerías</li>\n",
        "  <li>Cargar los Datos</li>\n",
        "  <li>División en Entrenamiento y pruebas</li>\n",
        "  <li>Entrenamiento y prueba de los clasificadores</li>\n",
        "  <li>Comparación de los Modelos usando la curva ROC </li>\n",
        "</ul>\n",
        "\n",
        "Tiempo estimado: <strong>15 min</strong>\n",
        "\n",
        "</div>\n",
        "<hr>"
      ],
      "metadata": {
        "application/vnd.databricks.v1+cell": {
          "title": "",
          "showTitle": false,
          "inputWidgets": {},
          "nuid": "9c7c1185-d9e7-4936-95ca-795828ad6bba"
        },
        "id": "73GwjLfQN9Yy"
      }
    },
    {
      "cell_type": "markdown",
      "source": [
        "#Paso : Cargar librerías \n",
        "  En primer lugar cargaremos las librerías que serán de utilidad para manipular los datos, para crear los clasificadores y compararlos."
      ],
      "metadata": {
        "application/vnd.databricks.v1+cell": {
          "title": "",
          "showTitle": false,
          "inputWidgets": {},
          "nuid": "93c437d8-ad0d-4c84-be2f-232850d7b411"
        },
        "id": "CluBOXSHN9Y1"
      }
    },
    {
      "cell_type": "code",
      "source": [
        "import numpy as np \n",
        "import pandas as pd\n",
        "import matplotlib.pyplot as plt # Para graficar\n",
        "from sklearn import tree # Importa el módulo tree https://scikit-learn.org/stable/modules/classes.html#module-sklearn.tree\n",
        "from sklearn.tree import DecisionTreeClassifier # Importa el Decision Tree Classifier\n",
        "from sklearn.model_selection import train_test_split # Importa la función para dividir el conjunto de datos en train_test_split \n",
        "from sklearn import metrics #Importa metricas scikit-learn para el calculo del accuracy\n",
        "from sklearn import preprocessing #Importa funciones para el procesamiento de los datos\n",
        "from sklearn.metrics import confusion_matrix #Importa los métodos de cálculo de la matriz de confusión\n",
        "from sklearn.preprocessing import StandardScaler #Escalamiento decimal\n",
        "from sklearn.metrics import precision_recall_fscore_support # Importa módulos para calcular métricas a partir de la matriz de confusión\n",
        "from sklearn.preprocessing import MinMaxScaler # Importa métodos para normalizar usando minMax\n",
        "from sklearn.ensemble import RandomForestClassifier # Importa el clasificador tipo ensamble llamado Random Forest\n",
        "from sklearn.model_selection import cross_val_score # Importa módulos para hacer Cross Validation\n",
        "from sklearn.model_selection import RepeatedStratifiedKFold #Para poder generar folds estratificados en CV\n",
        "from sklearn.neighbors import KNeighborsClassifier # Módulo de la técnica KNN\n",
        "from sklearn.metrics import roc_curve, auc #Curva ROC y área bajo la curva"
      ],
      "metadata": {
        "application/vnd.databricks.v1+cell": {
          "title": "",
          "showTitle": false,
          "inputWidgets": {},
          "nuid": "6a3676d3-6055-4a18-aa3b-27fa19556d66"
        },
        "id": "1Kl9BlcrN9Y2"
      },
      "outputs": [],
      "execution_count": null
    },
    {
      "cell_type": "markdown",
      "source": [
        "#Paso: Cargar los datos \n",
        "Lo primero que haremos será cargar los datos ya preparados para aplicar la técnica de Random Forest y para aplicar la técnica de KNN."
      ],
      "metadata": {
        "application/vnd.databricks.v1+cell": {
          "title": "",
          "showTitle": false,
          "inputWidgets": {},
          "nuid": "87c83b13-2ec7-481d-99d0-c16c269421c1"
        },
        "id": "zbJyhgv0N9Y3"
      }
    },
    {
      "cell_type": "code",
      "source": [
        "#Datos preparados para árboles de decisión y Random Forest\n",
        "path1 = \"https://www.dropbox.com/s/luaprnba30n660d/AdventureWorksPreparedRForest.csv?dl=1\"\n",
        "#Datos preparados para técnicas basadas en distancia como KNN\n",
        "path2 = \"https://www.dropbox.com/s/a5ikfcnhyapremr/AdventureWorksPreparedKNN.csv?dl=1\"\n",
        "\n",
        "\n",
        "\n",
        "#Lectura del archivo csv\n",
        "df1 = pd.read_csv(path1, sep=\";\", encoding = \"utf-8\", decimal=',')\n",
        "df2 = pd.read_csv(path2, sep=\";\", encoding = \"utf-8\", decimal=',')"
      ],
      "metadata": {
        "application/vnd.databricks.v1+cell": {
          "title": "",
          "showTitle": false,
          "inputWidgets": {},
          "nuid": "50aec20e-0d24-4a9b-b866-744edf0daec5"
        },
        "id": "tCXhQAQhN9Y3"
      },
      "outputs": [],
      "execution_count": null
    },
    {
      "cell_type": "markdown",
      "source": [
        "#Paso: División en Entrenamiento y Pruebas\n",
        "Dividiremos el conjunto de datos en entrenamiento 70% y prueba 30% para generar dos modelos distintos."
      ],
      "metadata": {
        "application/vnd.databricks.v1+cell": {
          "title": "",
          "showTitle": false,
          "inputWidgets": {},
          "nuid": "b66e30dc-ba04-4f56-b7b3-2dbc0f3279bb"
        },
        "id": "J8EHsumXN9Y4"
      }
    },
    {
      "cell_type": "code",
      "source": [
        "#Dividiremos el conjunto de datos en característicias (features) y la variable objetivo (target)\n",
        "feature_cols = ['EstadoCivil', 'Sexo', 'IngresosAnuales', 'TotalHijos','Educacion','TieneCasa','NumeroCarros','Edad','DistanciaTrabajo']\n",
        "\n",
        "#Datos para la creación del clasificador Random Forest\n",
        "X1 = df1[feature_cols] # Features o Características que corresponde a las variables predictoras\n",
        "y1 = df1.CompradorBicleta # Target o variable objetivo\n",
        "\n",
        "#Datos para la creación del clasificador KNN\n",
        "X2 = df2[feature_cols] # Features o Características que corresponde a las variables predictoras\n",
        "y2 = df2.CompradorBicleta # Target o variable objetivo\n"
      ],
      "metadata": {
        "application/vnd.databricks.v1+cell": {
          "title": "",
          "showTitle": false,
          "inputWidgets": {},
          "nuid": "27d8e33a-d764-4c77-908e-0015e2c07a58"
        },
        "id": "srCud2WiN9Y5"
      },
      "outputs": [],
      "execution_count": null
    },
    {
      "cell_type": "code",
      "source": [
        "# Dividir el conjunto de datos conjunto de entrenamiento y en conjunto de pruebas\n",
        "X1_train, X1_test, y1_train, y1_test = train_test_split(X1, y1, test_size=0.3, random_state=1) # 70% entrenamiento y 30% prueba\n",
        "X2_train, X2_test, y2_train, y2_test = train_test_split(X2, y2, test_size=0.3, random_state=1) # 70% entrenamiento y 30% prueba"
      ],
      "metadata": {
        "application/vnd.databricks.v1+cell": {
          "title": "",
          "showTitle": false,
          "inputWidgets": {},
          "nuid": "c29075bc-a684-451e-8abb-46e55550592a"
        },
        "id": "VhLe77aEN9Y5"
      },
      "outputs": [],
      "execution_count": null
    },
    {
      "cell_type": "markdown",
      "source": [
        "#Paso: Entrenamiento y prueba de los clasificadores\n",
        "Se entrenará el modelo con el conjunto de entrenamiento (X_train y Y_train) y luego haremos la predicción al conjunto de prueba (X_test). Se generarán dos clasificadores, uno será usando el algoritmo del Random Forest y otro con el algoritmo de KNN."
      ],
      "metadata": {
        "application/vnd.databricks.v1+cell": {
          "title": "",
          "showTitle": false,
          "inputWidgets": {},
          "nuid": "6c40851e-9c1a-4a7b-b571-e430592c2740"
        },
        "id": "AI-Mttt9N9Y5"
      }
    },
    {
      "cell_type": "code",
      "source": [
        "from google.colab import drive\n",
        "drive.mount('/content/drive')"
      ],
      "metadata": {
        "id": "S-FY1Ay2aFe6"
      },
      "execution_count": null,
      "outputs": []
    },
    {
      "cell_type": "code",
      "source": [
        "# Crear el clasificador 1 con Random Forest\n",
        "clf1 = RandomForestClassifier(n_estimators=100, random_state=0)\n",
        "# Entrenar el Random Forest\n",
        "clf1.fit(X1_train, y1_train)\n",
        "#Predecir la variable objetivo en los datos de prueba (probar el modelo)\n",
        "y1_pred = clf1.predict(X1_test)\n",
        "print(\"Accuracy del Modelo con Random Forest:\", metrics.accuracy_score(y1_test, y1_pred))\n",
        "\n",
        "# Crear el clasificador 2 con KNN.\n",
        "clf2 = KNeighborsClassifier(n_neighbors= 5, weights= \"distance\")\n",
        "# Entrenar el clasificador\n",
        "clf2 = clf2.fit(X2_train,y2_train)\n",
        "#Predecir los valores del conjunto de entrenamiento\n",
        "y2_pred = clf2.predict(X2_test)\n",
        "print(\"Accuracy del Modelo con KNN:\", metrics.accuracy_score(y2_test, y2_pred))\n"
      ],
      "metadata": {
        "application/vnd.databricks.v1+cell": {
          "title": "",
          "showTitle": false,
          "inputWidgets": {},
          "nuid": "01a90d73-4bdf-4be2-8788-0d168440d1ef"
        },
        "colab": {
          "base_uri": "https://localhost:8080/"
        },
        "id": "5DDkeXf2N9Y6",
        "outputId": "6e2c4766-c5d7-4b46-8b21-a00efbef08fc"
      },
      "outputs": [
        {
          "output_type": "stream",
          "name": "stdout",
          "text": [
            "Accuracy del Modelo con Random Forest: 0.788496213487198\n",
            "Accuracy del Modelo con KNN: 0.7659574468085106\n"
          ]
        }
      ],
      "execution_count": null
    },
    {
      "cell_type": "markdown",
      "source": [
        "#Paso: Comparación de los Modelos usando la curva ROC\n",
        "La curva ROC representa gráficamente la tasa de  verdaderos positivos (VP)  frente a la tasa falsos positivos (FP) también según se varía el umbral. Entre más rápido crezca la tasa de VP y más lento la de FP, mejor será el clasificador. El AUC, entre más cercano a 1 será un mejor clasificador. Se calculará la curva ROC (y su respectiva área bajo la curva AUC) para comparar visualmente los modelos generados."
      ],
      "metadata": {
        "application/vnd.databricks.v1+cell": {
          "title": "",
          "showTitle": false,
          "inputWidgets": {},
          "nuid": "4b73d44a-bd6c-4733-84d8-74219114e584"
        },
        "id": "43hdG2sKN9Y6"
      }
    },
    {
      "cell_type": "code",
      "source": [
        "# Calcularemos la curva ROC y el área bajo la curva para el clasificador Random Forest\n",
        "probs1 = clf1.predict_proba(X1_test)\n",
        "fpr1, tpr1, threshold =roc_curve(y1_test, probs1[:,1], pos_label=\"1.0\")\n",
        "roc_auc1 = metrics.auc(fpr1, tpr1)\n",
        "\n",
        "# Calcularemos la curva ROC y el área bajo la curva para el clasificador KNN\n",
        "probs2 = clf2.predict_proba(X2_test)\n",
        "fpr2, tpr2, threshold =roc_curve(y2_test, probs2[:,1], pos_label=\"1.0\")\n",
        "roc_auc2 = metrics.auc(fpr2, tpr2)"
      ],
      "metadata": {
        "application/vnd.databricks.v1+cell": {
          "title": "",
          "showTitle": false,
          "inputWidgets": {},
          "nuid": "76d0c9ad-fb1f-4cd8-a15c-9e734cac44fb"
        },
        "id": "_xYAN3yJN9Y6"
      },
      "outputs": [],
      "execution_count": null
    },
    {
      "cell_type": "code",
      "source": [
        "# Graficaremos las dos curvas ROC. La línea punteada representa un clasificador aleatorio.\n",
        "plt.title('Receiver Operating Characteristic')\n",
        "plt.plot(fpr1, tpr1, 'g', label = 'Random Forest AUC = %0.2f' % roc_auc1)\n",
        "plt.plot(fpr2, tpr2, 'b', label = 'KNN AUC = %0.2f' % roc_auc2)\n",
        "plt.legend(loc = 'lower right')\n",
        "plt.plot([0, 1], [0, 1],'r--')\n",
        "plt.xlim([0, 1])\n",
        "plt.ylim([0, 1])\n",
        "plt.ylabel('True Positive Rate')\n",
        "plt.xlabel('False Positive Rate')\n",
        "plt.show()"
      ],
      "metadata": {
        "application/vnd.databricks.v1+cell": {
          "title": "",
          "showTitle": false,
          "inputWidgets": {},
          "nuid": "ce4140d2-95ea-456c-ab4d-1ba221be0ce9"
        },
        "colab": {
          "base_uri": "https://localhost:8080/",
          "height": 295
        },
        "id": "IbcZ4-vwN9Y7",
        "outputId": "d978a9b1-2742-42da-8a9a-142a524ee9d5"
      },
      "outputs": [
        {
          "output_type": "display_data",
          "data": {
            "text/plain": [
              "<Figure size 432x288 with 1 Axes>"
            ],
            "image/png": "[encoded data removed]"
          },
          "metadata": {
            "needs_background": "light"
          }
        }
      ],
      "execution_count": null
    }
  ],
  "metadata": {
    "application/vnd.databricks.v1+notebook": {
      "notebookName": "ComparaciondeClf",
      "dashboards": [],
      "language": "python",
      "widgets": {},
      "notebookOrigID": 4164018856415662
    },
    "colab": {
      "provenance": [],
      "toc_visible": true
    },
    "language_info": {
      "name": "python"
    },
    "kernelspec": {
      "name": "python3",
      "display_name": "Python 3"
    }
  },
  "nbformat": 4,
  "nbformat_minor": 0
}